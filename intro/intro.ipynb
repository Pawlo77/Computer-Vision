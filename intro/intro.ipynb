{
 "cells": [
  {
   "cell_type": "markdown",
   "metadata": {},
   "source": [
    "\n",
    "# Intro\n",
    "This file is meant to get you familiar with the **\"proper\"** way of working with python code. It will cover how to install all necessary packages, how to create requirements.txt file for others, how to document and properly format your code and more.\n",
    "\n",
    "[About markdown](https://www.markdownguide.org/basic-syntax/)"
   ]
  },
  {
   "cell_type": "markdown",
   "metadata": {},
   "source": [
    "## Packages"
   ]
  },
  {
   "cell_type": "markdown",
   "metadata": {},
   "source": [
    "Python has a built-in package manager called *pip*. However, its unrecommended to install project's requirements (all needed packages to run the code) into default python interpreter. Therefore, a handy tool became popular - [anaconda](https://anaconda.org/anaconda/python). Install it on your own.\n",
    "\n",
    "Anaconda essentially allows you to have multiple python interpreters installed on the same machine, with different varsions and packages. Each interpreter is wrapped around what's called an environment - as a high level programmers we'll be using provided anaconda bash syntax to run it (for windows cmd most will be the same, although I recommend using installed automatically alongside anaconda \"Anaconda Prompt (Anaconda3)\" application, it will be easier for start)\n",
    "\n",
    "Properly installed anaconda will add *\"(base)\"* prefix to your's shell PS1 variable \n",
    "```bask\n",
    "(base) username@hostname:directory$\n",
    "```"
   ]
  },
  {
   "cell_type": "markdown",
   "metadata": {},
   "source": [
    "1. creating a new environment with python version 3.11 installed alongside the \"ipykernel\" package\n",
    "   ```bash\n",
    "   conda create --name satelity python=3.11 ipykernel\n",
    "   ```\n",
    "2. activating = we are using python interpreter iside this enviroment \n",
    "   ```bash\n",
    "   conda activate satelity\n",
    "   ```\n",
    "3. Step 1 and 2 PS1 should indicate that we're using \"satelity\" environment like that:\n",
    "   ```bash\n",
    "   (satelity) username@hostname:directory$\n",
    "   ```\n",
    "   You can run *conda info* to double check.\n",
    "4. If you use VS Code and have it in your path, you can now run\n",
    "   ```bash\n",
    "   code project_directory\n",
    "   ```\n",
    "   and VS Code will automatically use that interpreter. Otherwise, you will need to select it manually (right-upper corner of VS Code, look for *select kernel*)\n",
    "5. From now we can call some bash commands from jupyter's python cells by adding *!* mark in front of the command"
   ]
  },
  {
   "cell_type": "code",
   "execution_count": 1,
   "metadata": {},
   "outputs": [
    {
     "name": "stdout",
     "output_type": "stream",
     "text": [
      "Python 3.11.6\n"
     ]
    }
   ],
   "source": [
    "# example - run command from python's cell\n",
    "!python --version"
   ]
  },
  {
   "cell_type": "code",
   "execution_count": 2,
   "metadata": {},
   "outputs": [
    {
     "name": "stdout",
     "output_type": "stream",
     "text": [
      "Error:  No module named 'numpy'\n"
     ]
    }
   ],
   "source": [
    "# Let's import some libraries\n",
    "try:\n",
    "    import numpy as np\n",
    "except Exception as e:\n",
    "    print(\"Error: \", e)"
   ]
  },
  {
   "cell_type": "code",
   "execution_count": 3,
   "metadata": {},
   "outputs": [
    {
     "name": "stdout",
     "output_type": "stream",
     "text": [
      "Collecting numpy\n",
      "  Using cached numpy-1.26.1-cp311-cp311-macosx_11_0_arm64.whl.metadata (115 kB)\n",
      "Using cached numpy-1.26.1-cp311-cp311-macosx_11_0_arm64.whl (14.0 MB)\n",
      "Installing collected packages: numpy\n",
      "Successfully installed numpy-1.26.1\n"
     ]
    }
   ],
   "source": [
    "# So let's install it\n",
    "!pip install numpy"
   ]
  },
  {
   "cell_type": "code",
   "execution_count": 4,
   "metadata": {},
   "outputs": [
    {
     "name": "stdout",
     "output_type": "stream",
     "text": [
      "Collecting pandas\n",
      "  Using cached pandas-2.1.1-cp311-cp311-macosx_11_0_arm64.whl.metadata (18 kB)\n",
      "Collecting matplotlib\n",
      "  Using cached matplotlib-3.8.0-cp311-cp311-macosx_11_0_arm64.whl.metadata (5.8 kB)\n",
      "Collecting seaborn\n",
      "  Using cached seaborn-0.13.0-py3-none-any.whl.metadata (5.3 kB)\n",
      "Collecting scikit-learn\n",
      "  Using cached scikit_learn-1.3.2-cp311-cp311-macosx_12_0_arm64.whl.metadata (11 kB)\n",
      "Requirement already satisfied: numpy>=1.23.2 in /opt/homebrew/Caskroom/miniforge/base/envs/satelity/lib/python3.11/site-packages (from pandas) (1.26.1)\n",
      "Requirement already satisfied: python-dateutil>=2.8.2 in /opt/homebrew/Caskroom/miniforge/base/envs/satelity/lib/python3.11/site-packages (from pandas) (2.8.2)\n",
      "Collecting pytz>=2020.1 (from pandas)\n",
      "  Using cached pytz-2023.3.post1-py2.py3-none-any.whl.metadata (22 kB)\n",
      "Collecting tzdata>=2022.1 (from pandas)\n",
      "  Using cached tzdata-2023.3-py2.py3-none-any.whl (341 kB)\n",
      "Collecting contourpy>=1.0.1 (from matplotlib)\n",
      "  Using cached contourpy-1.1.1-cp311-cp311-macosx_11_0_arm64.whl.metadata (5.9 kB)\n",
      "Collecting cycler>=0.10 (from matplotlib)\n",
      "  Using cached cycler-0.12.1-py3-none-any.whl.metadata (3.8 kB)\n",
      "Collecting fonttools>=4.22.0 (from matplotlib)\n",
      "  Using cached fonttools-4.43.1-cp311-cp311-macosx_10_9_universal2.whl.metadata (152 kB)\n",
      "Collecting kiwisolver>=1.0.1 (from matplotlib)\n",
      "  Using cached kiwisolver-1.4.5-cp311-cp311-macosx_11_0_arm64.whl.metadata (6.4 kB)\n",
      "Requirement already satisfied: packaging>=20.0 in /opt/homebrew/Caskroom/miniforge/base/envs/satelity/lib/python3.11/site-packages (from matplotlib) (23.2)\n",
      "Collecting pillow>=6.2.0 (from matplotlib)\n",
      "  Using cached Pillow-10.1.0-cp311-cp311-macosx_11_0_arm64.whl.metadata (9.5 kB)\n",
      "Collecting pyparsing>=2.3.1 (from matplotlib)\n",
      "  Using cached pyparsing-3.1.1-py3-none-any.whl.metadata (5.1 kB)\n",
      "Collecting scipy>=1.5.0 (from scikit-learn)\n",
      "  Using cached scipy-1.11.3-cp311-cp311-macosx_12_0_arm64.whl.metadata (165 kB)\n",
      "Collecting joblib>=1.1.1 (from scikit-learn)\n",
      "  Using cached joblib-1.3.2-py3-none-any.whl.metadata (5.4 kB)\n",
      "Collecting threadpoolctl>=2.0.0 (from scikit-learn)\n",
      "  Using cached threadpoolctl-3.2.0-py3-none-any.whl.metadata (10.0 kB)\n",
      "Requirement already satisfied: six>=1.5 in /opt/homebrew/Caskroom/miniforge/base/envs/satelity/lib/python3.11/site-packages (from python-dateutil>=2.8.2->pandas) (1.16.0)\n",
      "Using cached pandas-2.1.1-cp311-cp311-macosx_11_0_arm64.whl (10.8 MB)\n",
      "Using cached matplotlib-3.8.0-cp311-cp311-macosx_11_0_arm64.whl (7.5 MB)\n",
      "Using cached seaborn-0.13.0-py3-none-any.whl (294 kB)\n",
      "Using cached scikit_learn-1.3.2-cp311-cp311-macosx_12_0_arm64.whl (9.4 MB)\n",
      "Using cached contourpy-1.1.1-cp311-cp311-macosx_11_0_arm64.whl (233 kB)\n",
      "Using cached cycler-0.12.1-py3-none-any.whl (8.3 kB)\n",
      "Using cached fonttools-4.43.1-cp311-cp311-macosx_10_9_universal2.whl (2.7 MB)\n",
      "Using cached joblib-1.3.2-py3-none-any.whl (302 kB)\n",
      "Using cached kiwisolver-1.4.5-cp311-cp311-macosx_11_0_arm64.whl (66 kB)\n",
      "Using cached Pillow-10.1.0-cp311-cp311-macosx_11_0_arm64.whl (3.3 MB)\n",
      "Using cached pyparsing-3.1.1-py3-none-any.whl (103 kB)\n",
      "Using cached pytz-2023.3.post1-py2.py3-none-any.whl (502 kB)\n",
      "Using cached scipy-1.11.3-cp311-cp311-macosx_12_0_arm64.whl (29.7 MB)\n",
      "Using cached threadpoolctl-3.2.0-py3-none-any.whl (15 kB)\n",
      "Installing collected packages: pytz, tzdata, threadpoolctl, scipy, pyparsing, pillow, kiwisolver, joblib, fonttools, cycler, contourpy, scikit-learn, pandas, matplotlib, seaborn\n",
      "Successfully installed contourpy-1.1.1 cycler-0.12.1 fonttools-4.43.1 joblib-1.3.2 kiwisolver-1.4.5 matplotlib-3.8.0 pandas-2.1.1 pillow-10.1.0 pyparsing-3.1.1 pytz-2023.3.post1 scikit-learn-1.3.2 scipy-1.11.3 seaborn-0.13.0 threadpoolctl-3.2.0 tzdata-2023.3\n"
     ]
    }
   ],
   "source": [
    "# let's install and import some more\n",
    "!pip install pandas matplotlib seaborn scikit-learn"
   ]
  },
  {
   "cell_type": "code",
   "execution_count": 5,
   "metadata": {},
   "outputs": [
    {
     "name": "stdout",
     "output_type": "stream",
     "text": [
      "number of digits: 10\n",
      "number of clusters found: 10\n",
      "0.9751818034688537\n"
     ]
    }
   ],
   "source": [
    "# you don't need understand this\n",
    "\n",
    "import numpy as np\n",
    "from sklearn.cluster import HDBSCAN\n",
    "from sklearn.datasets import load_digits\n",
    "from sklearn.metrics import v_measure_score\n",
    "\n",
    "X, true_labels = load_digits(return_X_y=True)\n",
    "print(f\"number of digits: {len(np.unique(true_labels))}\")\n",
    "\n",
    "hdbscan = HDBSCAN(min_cluster_size=15).fit(X)\n",
    "non_noisy_labels = hdbscan.labels_[hdbscan.labels_ != -1]\n",
    "print(f\"number of clusters found: {len(np.unique(non_noisy_labels))}\")\n",
    "\n",
    "print(v_measure_score(true_labels[hdbscan.labels_ != -1], non_noisy_labels))"
   ]
  },
  {
   "cell_type": "markdown",
   "metadata": {},
   "source": [
    "Now, when someone will want to use our code, several packages will be needed. In order to make their live easier, we can save these packages name's and allow future users to download them all automatically. We use *pipreqsnb* package to do that"
   ]
  },
  {
   "cell_type": "code",
   "execution_count": 6,
   "metadata": {},
   "outputs": [
    {
     "name": "stdout",
     "output_type": "stream",
     "text": [
      "Collecting pipreqsnb\n",
      "  Using cached pipreqsnb-0.2.4-py3-none-any.whl\n",
      "Collecting pipreqs (from pipreqsnb)\n",
      "  Using cached pipreqs-0.4.13-py2.py3-none-any.whl (33 kB)\n",
      "Collecting docopt (from pipreqs->pipreqsnb)\n",
      "  Using cached docopt-0.6.2-py2.py3-none-any.whl\n",
      "Collecting yarg (from pipreqs->pipreqsnb)\n",
      "  Using cached yarg-0.1.9-py2.py3-none-any.whl (19 kB)\n",
      "Collecting requests (from yarg->pipreqs->pipreqsnb)\n",
      "  Using cached requests-2.31.0-py3-none-any.whl.metadata (4.6 kB)\n",
      "Collecting charset-normalizer<4,>=2 (from requests->yarg->pipreqs->pipreqsnb)\n",
      "  Using cached charset_normalizer-3.3.1-cp311-cp311-macosx_11_0_arm64.whl.metadata (33 kB)\n",
      "Collecting idna<4,>=2.5 (from requests->yarg->pipreqs->pipreqsnb)\n",
      "  Using cached idna-3.4-py3-none-any.whl (61 kB)\n",
      "Collecting urllib3<3,>=1.21.1 (from requests->yarg->pipreqs->pipreqsnb)\n",
      "  Using cached urllib3-2.0.7-py3-none-any.whl.metadata (6.6 kB)\n",
      "Collecting certifi>=2017.4.17 (from requests->yarg->pipreqs->pipreqsnb)\n",
      "  Using cached certifi-2023.7.22-py3-none-any.whl.metadata (2.2 kB)\n",
      "Using cached requests-2.31.0-py3-none-any.whl (62 kB)\n",
      "Using cached certifi-2023.7.22-py3-none-any.whl (158 kB)\n",
      "Using cached charset_normalizer-3.3.1-cp311-cp311-macosx_11_0_arm64.whl (116 kB)\n",
      "Using cached urllib3-2.0.7-py3-none-any.whl (124 kB)\n",
      "Installing collected packages: docopt, urllib3, idna, charset-normalizer, certifi, requests, yarg, pipreqs, pipreqsnb\n",
      "Successfully installed certifi-2023.7.22 charset-normalizer-3.3.1 docopt-0.6.2 idna-3.4 pipreqs-0.4.13 pipreqsnb-0.2.4 requests-2.31.0 urllib3-2.0.7 yarg-0.1.9\n"
     ]
    }
   ],
   "source": [
    "!pip install pipreqsnb"
   ]
  },
  {
   "cell_type": "code",
   "execution_count": 7,
   "metadata": {},
   "outputs": [
    {
     "name": "stdout",
     "output_type": "stream",
     "text": [
      "pipreqs  --savepath requirements.txt .\n",
      "WARNING: Import named \"numpy\" not found locally. Trying to resolve it at the PyPI server.\n",
      "WARNING: Import named \"numpy\" was resolved to \"numpy:1.26.1\" package (https://pypi.org/project/numpy/).\n",
      "Please, verify manually the final list of requirements.txt to avoid possible dependency confusions.\n",
      "WARNING: Import named \"pandas\" not found locally. Trying to resolve it at the PyPI server.\n",
      "WARNING: Import named \"pandas\" was resolved to \"pandas:2.1.1\" package (https://pypi.org/project/pandas/).\n",
      "Please, verify manually the final list of requirements.txt to avoid possible dependency confusions.\n",
      "INFO: Successfully saved requirements file in requirements.txt\n"
     ]
    }
   ],
   "source": [
    "# this will scan all .py/.ipynb files in current directory,\n",
    "# check what packages you use (and their versions) and create requirements.txt\n",
    "!pipreqsnb --savepath requirements.txt ."
   ]
  },
  {
   "cell_type": "code",
   "execution_count": 8,
   "metadata": {},
   "outputs": [
    {
     "name": "stdout",
     "output_type": "stream",
     "text": [
      "numpy==1.26.1\n",
      "pandas==2.1.1\n",
      "scikit_learn==1.3.2\n"
     ]
    }
   ],
   "source": [
    "# note: it may have more packages than already imported, it will scan entire directory\n",
    "!cat requirements.txt"
   ]
  },
  {
   "cell_type": "code",
   "execution_count": 9,
   "metadata": {},
   "outputs": [
    {
     "name": "stdout",
     "output_type": "stream",
     "text": [
      "Requirement already satisfied: numpy==1.26.1 in /opt/homebrew/Caskroom/miniforge/base/envs/satelity/lib/python3.11/site-packages (from -r requirements.txt (line 1)) (1.26.1)\n",
      "Requirement already satisfied: pandas==2.1.1 in /opt/homebrew/Caskroom/miniforge/base/envs/satelity/lib/python3.11/site-packages (from -r requirements.txt (line 2)) (2.1.1)\n",
      "Requirement already satisfied: scikit_learn==1.3.2 in /opt/homebrew/Caskroom/miniforge/base/envs/satelity/lib/python3.11/site-packages (from -r requirements.txt (line 3)) (1.3.2)\n",
      "Requirement already satisfied: python-dateutil>=2.8.2 in /opt/homebrew/Caskroom/miniforge/base/envs/satelity/lib/python3.11/site-packages (from pandas==2.1.1->-r requirements.txt (line 2)) (2.8.2)\n",
      "Requirement already satisfied: pytz>=2020.1 in /opt/homebrew/Caskroom/miniforge/base/envs/satelity/lib/python3.11/site-packages (from pandas==2.1.1->-r requirements.txt (line 2)) (2023.3.post1)\n",
      "Requirement already satisfied: tzdata>=2022.1 in /opt/homebrew/Caskroom/miniforge/base/envs/satelity/lib/python3.11/site-packages (from pandas==2.1.1->-r requirements.txt (line 2)) (2023.3)\n",
      "Requirement already satisfied: scipy>=1.5.0 in /opt/homebrew/Caskroom/miniforge/base/envs/satelity/lib/python3.11/site-packages (from scikit_learn==1.3.2->-r requirements.txt (line 3)) (1.11.3)\n",
      "Requirement already satisfied: joblib>=1.1.1 in /opt/homebrew/Caskroom/miniforge/base/envs/satelity/lib/python3.11/site-packages (from scikit_learn==1.3.2->-r requirements.txt (line 3)) (1.3.2)\n",
      "Requirement already satisfied: threadpoolctl>=2.0.0 in /opt/homebrew/Caskroom/miniforge/base/envs/satelity/lib/python3.11/site-packages (from scikit_learn==1.3.2->-r requirements.txt (line 3)) (3.2.0)\n",
      "Requirement already satisfied: six>=1.5 in /opt/homebrew/Caskroom/miniforge/base/envs/satelity/lib/python3.11/site-packages (from python-dateutil>=2.8.2->pandas==2.1.1->-r requirements.txt (line 2)) (1.16.0)\n"
     ]
    }
   ],
   "source": [
    "# now, we can install them all at once, reading from file\n",
    "!pip install -r requirements.txt"
   ]
  },
  {
   "cell_type": "markdown",
   "metadata": {},
   "source": [
    "## Code formatting\n",
    "[Here](https://pep8.org) is how you shold format your code. But who'd want to lose time for that... We will use dependency that will format code for you / check weather it's properly formatted."
   ]
  },
  {
   "cell_type": "code",
   "execution_count": 10,
   "metadata": {},
   "outputs": [
    {
     "name": "stdout",
     "output_type": "stream",
     "text": [
      "Collecting jupyter-black\n",
      "  Using cached jupyter_black-0.3.4-py3-none-any.whl (8.5 kB)\n",
      "Collecting black>=21 (from jupyter-black)\n",
      "  Using cached black-23.10.1-py3-none-any.whl.metadata (66 kB)\n",
      "Requirement already satisfied: ipython>=7 in /opt/homebrew/Caskroom/miniforge/base/envs/satelity/lib/python3.11/site-packages (from jupyter-black) (8.16.1)\n",
      "Collecting tokenize-rt>=4 (from jupyter-black)\n",
      "  Using cached tokenize_rt-5.2.0-py2.py3-none-any.whl.metadata (4.1 kB)\n",
      "Collecting click>=8.0.0 (from black>=21->jupyter-black)\n",
      "  Using cached click-8.1.7-py3-none-any.whl.metadata (3.0 kB)\n",
      "Collecting mypy-extensions>=0.4.3 (from black>=21->jupyter-black)\n",
      "  Using cached mypy_extensions-1.0.0-py3-none-any.whl (4.7 kB)\n",
      "Requirement already satisfied: packaging>=22.0 in /opt/homebrew/Caskroom/miniforge/base/envs/satelity/lib/python3.11/site-packages (from black>=21->jupyter-black) (23.2)\n",
      "Collecting pathspec>=0.9.0 (from black>=21->jupyter-black)\n",
      "  Using cached pathspec-0.11.2-py3-none-any.whl.metadata (19 kB)\n",
      "Requirement already satisfied: platformdirs>=2 in /opt/homebrew/Caskroom/miniforge/base/envs/satelity/lib/python3.11/site-packages (from black>=21->jupyter-black) (3.11.0)\n",
      "Requirement already satisfied: backcall in /opt/homebrew/Caskroom/miniforge/base/envs/satelity/lib/python3.11/site-packages (from ipython>=7->jupyter-black) (0.2.0)\n",
      "Requirement already satisfied: decorator in /opt/homebrew/Caskroom/miniforge/base/envs/satelity/lib/python3.11/site-packages (from ipython>=7->jupyter-black) (5.1.1)\n",
      "Requirement already satisfied: jedi>=0.16 in /opt/homebrew/Caskroom/miniforge/base/envs/satelity/lib/python3.11/site-packages (from ipython>=7->jupyter-black) (0.19.1)\n",
      "Requirement already satisfied: matplotlib-inline in /opt/homebrew/Caskroom/miniforge/base/envs/satelity/lib/python3.11/site-packages (from ipython>=7->jupyter-black) (0.1.6)\n",
      "Requirement already satisfied: pickleshare in /opt/homebrew/Caskroom/miniforge/base/envs/satelity/lib/python3.11/site-packages (from ipython>=7->jupyter-black) (0.7.5)\n",
      "Requirement already satisfied: prompt-toolkit!=3.0.37,<3.1.0,>=3.0.30 in /opt/homebrew/Caskroom/miniforge/base/envs/satelity/lib/python3.11/site-packages (from ipython>=7->jupyter-black) (3.0.39)\n",
      "Requirement already satisfied: pygments>=2.4.0 in /opt/homebrew/Caskroom/miniforge/base/envs/satelity/lib/python3.11/site-packages (from ipython>=7->jupyter-black) (2.16.1)\n",
      "Requirement already satisfied: stack-data in /opt/homebrew/Caskroom/miniforge/base/envs/satelity/lib/python3.11/site-packages (from ipython>=7->jupyter-black) (0.6.2)\n",
      "Requirement already satisfied: traitlets>=5 in /opt/homebrew/Caskroom/miniforge/base/envs/satelity/lib/python3.11/site-packages (from ipython>=7->jupyter-black) (5.12.0)\n",
      "Requirement already satisfied: pexpect>4.3 in /opt/homebrew/Caskroom/miniforge/base/envs/satelity/lib/python3.11/site-packages (from ipython>=7->jupyter-black) (4.8.0)\n",
      "Requirement already satisfied: appnope in /opt/homebrew/Caskroom/miniforge/base/envs/satelity/lib/python3.11/site-packages (from ipython>=7->jupyter-black) (0.1.3)\n",
      "Requirement already satisfied: parso<0.9.0,>=0.8.3 in /opt/homebrew/Caskroom/miniforge/base/envs/satelity/lib/python3.11/site-packages (from jedi>=0.16->ipython>=7->jupyter-black) (0.8.3)\n",
      "Requirement already satisfied: ptyprocess>=0.5 in /opt/homebrew/Caskroom/miniforge/base/envs/satelity/lib/python3.11/site-packages (from pexpect>4.3->ipython>=7->jupyter-black) (0.7.0)\n",
      "Requirement already satisfied: wcwidth in /opt/homebrew/Caskroom/miniforge/base/envs/satelity/lib/python3.11/site-packages (from prompt-toolkit!=3.0.37,<3.1.0,>=3.0.30->ipython>=7->jupyter-black) (0.2.8)\n",
      "Requirement already satisfied: executing>=1.2.0 in /opt/homebrew/Caskroom/miniforge/base/envs/satelity/lib/python3.11/site-packages (from stack-data->ipython>=7->jupyter-black) (1.2.0)\n",
      "Requirement already satisfied: asttokens>=2.1.0 in /opt/homebrew/Caskroom/miniforge/base/envs/satelity/lib/python3.11/site-packages (from stack-data->ipython>=7->jupyter-black) (2.4.0)\n",
      "Requirement already satisfied: pure-eval in /opt/homebrew/Caskroom/miniforge/base/envs/satelity/lib/python3.11/site-packages (from stack-data->ipython>=7->jupyter-black) (0.2.2)\n",
      "Requirement already satisfied: six>=1.12.0 in /opt/homebrew/Caskroom/miniforge/base/envs/satelity/lib/python3.11/site-packages (from asttokens>=2.1.0->stack-data->ipython>=7->jupyter-black) (1.16.0)\n",
      "Using cached black-23.10.1-py3-none-any.whl (184 kB)\n",
      "Using cached tokenize_rt-5.2.0-py2.py3-none-any.whl (5.8 kB)\n",
      "Using cached click-8.1.7-py3-none-any.whl (97 kB)\n",
      "Using cached pathspec-0.11.2-py3-none-any.whl (29 kB)\n",
      "Installing collected packages: tokenize-rt, pathspec, mypy-extensions, click, black, jupyter-black\n",
      "Successfully installed black-23.10.1 click-8.1.7 jupyter-black-0.3.4 mypy-extensions-1.0.0 pathspec-0.11.2 tokenize-rt-5.2.0\n"
     ]
    }
   ],
   "source": [
    "!pip install jupyter-black"
   ]
  },
  {
   "cell_type": "code",
   "execution_count": 11,
   "metadata": {},
   "outputs": [
    {
     "name": "stdout",
     "output_type": "stream",
     "text": [
      "\u001b[1mUsage: black [OPTIONS] SRC ...\n",
      "\n",
      "One of 'SRC' or 'code' is required.\u001b[0m\n"
     ]
    }
   ],
   "source": [
    "!black"
   ]
  },
  {
   "cell_type": "code",
   "execution_count": 12,
   "metadata": {},
   "outputs": [
    {
     "name": "stdout",
     "output_type": "stream",
     "text": [
      "\u001b[1m--- bad_formatting.py\t2023-10-25 22:22:23.551670+00:00\u001b[0m\n",
      "\u001b[1m+++ bad_formatting.py\t2023-10-25 22:26:00.492596+00:00\u001b[0m\n",
      "\u001b[36m@@ -6,12 +6,11 @@\u001b[0m\n",
      "             print('x is greater than y')\n",
      " else:\n",
      "     print('x is not greater than y')\n",
      " \"\"\"\n",
      " \n",
      "\u001b[31m-x=5\u001b[0m\n",
      "\u001b[31m-y=10\u001b[0m\n",
      "\u001b[31m-if x>y:\u001b[0m\n",
      "\u001b[31m-            print('x is greater than y')\u001b[0m\n",
      "\u001b[32m+x = 5\u001b[0m\n",
      "\u001b[32m+y = 10\u001b[0m\n",
      "\u001b[32m+if x > y:\u001b[0m\n",
      "\u001b[32m+    print(\"x is greater than y\")\u001b[0m\n",
      " else:\n",
      "\u001b[31m-    print('x is not greater than y')\u001b[0m\n",
      "\u001b[31m-\u001b[0m\n",
      "\u001b[32m+    print(\"x is not greater than y\")\u001b[0m\n",
      "\u001b[1mwould reformat bad_formatting.py\u001b[0m\n",
      "\n",
      "\u001b[1mAll done! ✨ 🍰 ✨\u001b[0m\n",
      "\u001b[34m\u001b[1m1 file \u001b[0m\u001b[1mwould be reformatted\u001b[0m.\n"
     ]
    }
   ],
   "source": [
    "# we will use it to reformat another file, but with \".\"\n",
    "# it will reformat all files in current directory\n",
    "\n",
    "# check if sth is wrong\n",
    "!black --diff --color bad_formatting.py"
   ]
  },
  {
   "cell_type": "code",
   "execution_count": 13,
   "metadata": {},
   "outputs": [
    {
     "name": "stdout",
     "output_type": "stream",
     "text": [
      "\u001b[1mreformatted bad_formatting.py\u001b[0m\n",
      "\n",
      "\u001b[1mAll done! ✨ 🍰 ✨\u001b[0m\n",
      "\u001b[34m\u001b[1m1 file \u001b[0m\u001b[1mreformatted\u001b[0m.\n"
     ]
    }
   ],
   "source": [
    "# fix it\n",
    "!black bad_formatting.py"
   ]
  },
  {
   "cell_type": "markdown",
   "metadata": {},
   "source": [
    "# Code formatting\n",
    "In order to scale project well, code documentation is required. There are some ways to generate it automatically based on commands, but it requires certain commands style. Below is just a fairly simple example, but get familiar with basics from [here](https://www.sphinx-doc.org/en/master/usage/restructuredtext/index.html)"
   ]
  },
  {
   "cell_type": "code",
   "execution_count": 14,
   "metadata": {},
   "outputs": [],
   "source": [
    "import pandas as pd\n",
    "\n",
    "from typing import List\n",
    "\n",
    "DATASETS_FOLDER = \"datasets\"\n",
    "\n",
    "\n",
    "def load_flights(\n",
    "    years: str | List[str] = \"all\", cols: List[str] = None, dir: str = DATASETS_FOLDER\n",
    ") -> pd.DataFrame:\n",
    "    \"\"\"\n",
    "    Loads flight data into memory\n",
    "\n",
    "    ..warning :: This function does nothing\n",
    "\n",
    "    :param years: \"all\" or all possible data, List of str from {\"1987\", ..., \"2008\"} for specific ones\n",
    "    :param cols: desired columns to be loaded, if None entire data is loaded\n",
    "    :param dir: target data directory\n",
    "    :returns: DataFrame with loaded data\n",
    "    :raises: ValueError if years is not \"all\" or List[str] from {\"1987\", ..., \"2008\"}\n",
    "    \"\"\"\n",
    "\n",
    "    pass"
   ]
  }
 ],
 "metadata": {
  "kernelspec": {
   "display_name": "myVicinity",
   "language": "python",
   "name": "python3"
  },
  "language_info": {
   "codemirror_mode": {
    "name": "ipython",
    "version": 3
   },
   "file_extension": ".py",
   "mimetype": "text/x-python",
   "name": "python",
   "nbconvert_exporter": "python",
   "pygments_lexer": "ipython3",
   "version": "3.11.6"
  }
 },
 "nbformat": 4,
 "nbformat_minor": 2
}
