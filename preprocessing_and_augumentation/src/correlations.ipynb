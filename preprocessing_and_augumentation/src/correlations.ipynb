{
 "cells": [
  {
   "cell_type": "code",
   "execution_count": 1,
   "metadata": {},
   "outputs": [],
   "source": [
    "import numpy as np"
   ]
  },
  {
   "cell_type": "code",
   "execution_count": 2,
   "metadata": {},
   "outputs": [
    {
     "data": {
      "text/plain": [
       "array([[1.        , 0.99966095],\n",
       "       [0.99966095, 1.        ]])"
      ]
     },
     "execution_count": 2,
     "metadata": {},
     "output_type": "execute_result"
    }
   ],
   "source": [
    "# https://en.wikipedia.org/wiki/Cross-correlation\n",
    "# https://en.wikipedia.org/wiki/Pearson_correlation_coefficient\n",
    "# https://mathbitsnotebook.com/Algebra1/FunctionGraphs/FNGContinuousDiscrete.html\n",
    "\n",
    "x = np.arange(10)\n",
    "y = 2 * np.sqrt(np.arange(10) + 20)\n",
    "\n",
    "# https://numpy.org/doc/stable/reference/generated/numpy.corrcoef.html\n",
    "# each row of x, y holds a different variable, with observations in the columns\n",
    "np.corrcoef(np.arange(10), 2 * np.sqrt(np.arange(10) + 20))\n",
    "# [[r_xx = 1.0, r_xy], [r_yx, r_yy = 1.0]] where r is person correlation coefficient"
   ]
  },
  {
   "cell_type": "code",
   "execution_count": 3,
   "metadata": {},
   "outputs": [
    {
     "name": "stdout",
     "output_type": "stream",
     "text": [
      "[3.5]\n",
      "[2.  3.5 3. ]\n",
      "[0.5 2.  3.5 3.  0. ]\n"
     ]
    }
   ],
   "source": [
    "# https://numpy.org/doc/stable/reference/generated/numpy.correlate.html\n",
    "\n",
    "x = [1, 2, 3]\n",
    "y = [0, 1, 0.5]\n",
    "\n",
    "# will return one value - cross-correlation between 2 discrete\n",
    "# deterministic with time shift 0 (lag)\n",
    "print(np.correlate(x, y))\n",
    "\n",
    "# will return len(x) = n values, where\n",
    "print(np.correlate([1, 2, 3], [0, 1, 0.5], \"same\"))  # out of len(x)\n",
    "print(\n",
    "    np.correlate([1, 2, 3], [0, 1, 0.5], \"full\")\n",
    ")  # output of len(x) - len(y) + 1 + 2 * (len(y) - 1) = len(x) + len(y) - 1"
   ]
  },
  {
   "cell_type": "code",
   "execution_count": 4,
   "metadata": {},
   "outputs": [
    {
     "name": "stdout",
     "output_type": "stream",
     "text": [
      "[20 29 38]\n",
      "[11 20 29 38 23]\n",
      "[ 4 11 20 29 38 23 10]\n"
     ]
    }
   ],
   "source": [
    "x = np.array([1, 2, 3, 4, 5])\n",
    "y = np.array([2, 3, 4])\n",
    "\n",
    "# r([1, 2, 3], [2, 3, 4]), r([2, 3, 4], [2, 3, 4]), r([3, 4, 5], [2, 3, 4])\n",
    "print(np.correlate(x, y))\n",
    "# r([0, 1, 2], [2, 3, 4]) - lag=-1, np.correlate(x, y), r([4, 5, 0], [2, 3, 4]) - lag=1\n",
    "print(np.correlate(x, y, \"same\"))\n",
    "print(np.correlate(x, y, \"full\"))"
   ]
  }
 ],
 "metadata": {
  "kernelspec": {
   "display_name": "satelity",
   "language": "python",
   "name": "python3"
  },
  "language_info": {
   "codemirror_mode": {
    "name": "ipython",
    "version": 3
   },
   "file_extension": ".py",
   "mimetype": "text/x-python",
   "name": "python",
   "nbconvert_exporter": "python",
   "pygments_lexer": "ipython3",
   "version": "3.11.6"
  }
 },
 "nbformat": 4,
 "nbformat_minor": 2
}
